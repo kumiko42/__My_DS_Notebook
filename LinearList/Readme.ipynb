{
 "cells": [
  {
   "cell_type": "markdown",
   "id": "67a4720e-8676-4132-9213-ecf06dc3f589",
   "metadata": {},
   "source": [
    "# Readme"
   ]
  },
  {
   "cell_type": "markdown",
   "id": "17156aa9-ac7b-49eb-89fe-eabc73956d3e",
   "metadata": {},
   "source": [
    "> 这是一个Jupyter Notebook on Mybinder的使用示例。之后我会用它在ipad上快速写一些数据结构的代码。"
   ]
  },
  {
   "cell_type": "markdown",
   "id": "5388b39b-1ff0-49f8-83ce-5ebff4b96cfb",
   "metadata": {
    "tags": []
   },
   "source": [
    "## Tips"
   ]
  },
  {
   "cell_type": "markdown",
   "id": "31c11608-a0cd-48de-92f7-34b2a85216c8",
   "metadata": {},
   "source": [
    "1. 你可以使用Ctrl + Shift + C 打开Command Palette，这里有所有的命令。\n",
    "2. 在这里，你可以快速调整一些基础的设置，比如Tab Spaces和Font Size。\n",
    "3. Jupyter和Vim一样，有Mode。这意味着Esc之后的指令和写入时的指令有所不同。此外ipad由于苹果魔改的原因没有办法使用。\n",
    "\n",
    "> 但是可以用Command Palette."
   ]
  },
  {
   "cell_type": "markdown",
   "id": "cc1ca0f9-04ab-4e48-928a-f8e897c5f71d",
   "metadata": {},
   "source": [
    " ### 一些常见的操作"
   ]
  },
  {
   "cell_type": "markdown",
   "id": "99130452-041f-4f8e-9c82-ec7c0f7145d1",
   "metadata": {},
   "source": [
    "Jupyter一般是使用Markdown，所以常见的markdown语法在这里都可以使用。\n",
    "\n",
    "比如表格：\n",
    "\n",
    "| Left | Right | Center | Unjustified |\n",
    "| :- | -: | :-: | --- |\n",
    "| Demo1 | Demo2 | Demo3 | Demo4 |"
   ]
  },
  {
   "cell_type": "markdown",
   "id": "7e41b820-b49d-4957-9ed1-38d77a2b6222",
   "metadata": {},
   "source": [
    "我们还可以在左侧看见Toc，并快速预览代码。"
   ]
  },
  {
   "cell_type": "markdown",
   "id": "f9b91ad6-a93f-45de-a838-4c03b04a5c7e",
   "metadata": {},
   "source": [
    "在代码前面加入!，可以传递给shell（需要你先载入一个Kernel）"
   ]
  },
  {
   "cell_type": "code",
   "execution_count": 1,
   "id": "2e0cea97-e31f-4d91-b9e8-dda153ae575f",
   "metadata": {},
   "outputs": [
    {
     "name": "stdout",
     "output_type": "stream",
     "text": [
      "Linux jupyter-kumiko42-2d-5f-5fmy-5fds-5fnotebook-2diosusp7i 5.4.129+ #1 SMP Wed Aug 18 19:58:18 PDT 2021 x86_64 x86_64 x86_64 GNU/Linux\n"
     ]
    }
   ],
   "source": [
    "!uname -a"
   ]
  },
  {
   "cell_type": "markdown",
   "id": "042c42f4-f0f4-4f92-ac2b-3d99bcc4f497",
   "metadata": {},
   "source": [
    "当然了，不要忘了切换Cell的类型。"
   ]
  },
  {
   "cell_type": "markdown",
   "id": "686fc54d-d0e8-466e-866a-0273bba74ae7",
   "metadata": {},
   "source": [
    "虽然可以自动保存到浏览器，但是不可以清除缓存。所以一定要用自己写的脚本保存一下："
   ]
  },
  {
   "cell_type": "code",
   "execution_count": 4,
   "id": "9a7a0065-52e8-48ac-9cdc-b94badf6bb68",
   "metadata": {},
   "outputs": [
    {
     "name": "stdout",
     "output_type": "stream",
     "text": [
      "From https://github.com/kumiko42/__My_DS_Notebook\n",
      " * branch            HEAD       -> FETCH_HEAD\n",
      "Already up to date.\n",
      "On branch main\n",
      "Your branch is up to date with 'origin/main'.\n",
      "\n",
      "Changes not staged for commit:\n",
      "  (use \"git add/rm <file>...\" to update what will be committed)\n",
      "  (use \"git checkout -- <file>...\" to discard changes in working directory)\n",
      "\n",
      "\tdeleted:    \".ipynb_checkpoints/\\351\\241\\272\\345\\272\\217\\350\\241\\250-checkpoint.ipynb\"\n",
      "\tdeleted:    \"\\351\\241\\272\\345\\272\\217\\350\\241\\250.ipynb\"\n",
      "\n",
      "Untracked files:\n",
      "  (use \"git add <file>...\" to include in what will be committed)\n",
      "\n",
      "\t../.bash_logout\n",
      "\t../.bashrc\n",
      "\t../.conda/\n",
      "\t../.gitconfig\n",
      "\t../.jupyter-server-log.txt\n",
      "\t../.jupyter/\n",
      "\t../.local/\n",
      "\t../.profile\n",
      "\t.ipynb_checkpoints/Readme-checkpoint.ipynb\n",
      "\tReadme.ipynb\n",
      "\n",
      "no changes added to commit (use \"git add\" and/or \"git commit -a\")\n"
     ]
    }
   ],
   "source": [
    "!../startupsh.sh"
   ]
  },
  {
   "cell_type": "markdown",
   "id": "ac53499f-826a-419f-8734-48cbb6d32452",
   "metadata": {},
   "source": [
    "可以看到，我们并没有追踪当前的这个文件。"
   ]
  },
  {
   "cell_type": "markdown",
   "id": "f4f0abc1-8c90-4501-8f01-23dd17a220db",
   "metadata": {},
   "source": [
    "在写完所有的文件之后，一定要看看自己是否有遗漏，不然不会保存的。"
   ]
  },
  {
   "cell_type": "markdown",
   "id": "c7735e15-bf21-4b3b-a7bd-5a39976770b5",
   "metadata": {},
   "source": [
    "## C++"
   ]
  },
  {
   "cell_type": "markdown",
   "id": "2fba1477-0360-4683-9a5a-dd31cececcb6",
   "metadata": {},
   "source": [
    "虽然是C++，不过数据结构不会用除了引用的其他东西。甚至不用\\<iostream\\>"
   ]
  },
  {
   "cell_type": "code",
   "execution_count": 5,
   "id": "38c86f44-80c7-485a-9245-8d7cf6cf5c49",
   "metadata": {},
   "outputs": [],
   "source": [
    "#include <stdio.h>"
   ]
  },
  {
   "cell_type": "markdown",
   "id": "77e417c8-c3b3-4910-a786-b44139fd7023",
   "metadata": {},
   "source": [
    "我们也不再需要main函数了，因为main函数一般做入口，但是notebook里每个cell都是入口。"
   ]
  },
  {
   "cell_type": "markdown",
   "id": "196a113b-9d0c-4742-b314-b0821326b58e",
   "metadata": {},
   "source": [
    "我们尝试一下读取几个变量："
   ]
  },
  {
   "cell_type": "code",
   "execution_count": 10,
   "id": "ac3139c1-2b06-41d0-be02-60c622c0ce92",
   "metadata": {},
   "outputs": [],
   "source": [
    "int a[10];\n",
    "for(int i = 0; i < 10; i++)\n",
    "    scanf(\"%d\", &a[i]);"
   ]
  },
  {
   "cell_type": "markdown",
   "id": "b401f0d2-b058-44b2-9270-3b3600c5142c",
   "metadata": {},
   "source": [
    "可以看到，什么都没有，因为C风格的printf和scanf不能被重定向。"
   ]
  },
  {
   "cell_type": "code",
   "execution_count": 11,
   "id": "9eaf0873-b46d-41fb-9358-9caf467c4e62",
   "metadata": {},
   "outputs": [
    {
     "name": "stdin",
     "output_type": "stream",
     "text": [
      " 1 2 3 4 5 6 7 8 9 10\n"
     ]
    }
   ],
   "source": [
    "#include <iostream>\n",
    "using namespace std;\n",
    "\n",
    "int a[10];\n",
    "for(int i = 0; i < 10; i++)\n",
    "    cin >> a[i];"
   ]
  },
  {
   "cell_type": "markdown",
   "id": "53e90ae3-eea5-40e9-8ca0-f3e3f2debde9",
   "metadata": {},
   "source": [
    "如此输入之后，就可以在下面直接打标识符看内容了。"
   ]
  },
  {
   "cell_type": "code",
   "execution_count": 13,
   "id": "8348e541-f290-4b94-b7b2-cb68ad3d671d",
   "metadata": {},
   "outputs": [
    {
     "data": {
      "text/plain": [
       "2"
      ]
     },
     "execution_count": 13,
     "metadata": {},
     "output_type": "execute_result"
    }
   ],
   "source": [
    "a[1]"
   ]
  },
  {
   "cell_type": "markdown",
   "id": "b58e514f-666e-4d95-a96d-b46c48bacfb6",
   "metadata": {},
   "source": [
    "或者，我们也可以用Magic："
   ]
  },
  {
   "cell_type": "code",
   "execution_count": 20,
   "id": "f9490f7b-31a1-4f0a-a3f7-a16ea2a27ae8",
   "metadata": {},
   "outputs": [
    {
     "name": "stdout",
     "output_type": "stream",
     "text": [
      "Overwriting a.c\n"
     ]
    }
   ],
   "source": [
    "%%file a.c\n",
    "\n",
    "#include <stdio.h>\n",
    "int main()\n",
    "{\n",
    "    int b[10];\n",
    "    for(int i = 0; i < 10; i++)\n",
    "        scanf(\"%d\", &b[i]);\n",
    "    for(int i = 0; i < 10; i++)\n",
    "        printf(\"%d\", b[i]);\n",
    "}"
   ]
  },
  {
   "cell_type": "markdown",
   "id": "3eb7357a-0f9d-4bc8-9e15-ce3197cbffca",
   "metadata": {},
   "source": [
    "然后用gcc编译："
   ]
  },
  {
   "cell_type": "code",
   "execution_count": 21,
   "id": "f19236fb-f565-4018-94b3-ec0e61439bf0",
   "metadata": {},
   "outputs": [],
   "source": [
    "!gcc a.c"
   ]
  },
  {
   "cell_type": "code",
   "execution_count": 22,
   "id": "b9b632ef-e483-4850-9539-2314c47155b7",
   "metadata": {},
   "outputs": [
    {
     "name": "stdout",
     "output_type": "stream",
     "text": [
      "13804286083273300-51766688021958-51766731221958-188510806432765"
     ]
    }
   ],
   "source": [
    "!./a.out"
   ]
  },
  {
   "cell_type": "markdown",
   "id": "97f74a91-59a1-4350-b3b6-2fde8dec0ebe",
   "metadata": {},
   "source": [
    "**仍然没有调取到stdin.所以不要这么用。悲。**"
   ]
  },
  {
   "cell_type": "code",
   "execution_count": 27,
   "id": "757d2eb3-d417-4b60-92a2-f26f0bde0ead",
   "metadata": {},
   "outputs": [
    {
     "name": "stdout",
     "output_type": "stream",
     "text": [
      "error: switch `m' requires a value\n",
      "usage: git commit [<options>] [--] <pathspec>...\n",
      "\n",
      "    -q, --quiet           suppress summary after successful commit\n",
      "    -v, --verbose         show diff in commit message template\n",
      "\n",
      "Commit message options\n",
      "    -F, --file <file>     read message from file\n",
      "    --author <author>     override author for commit\n",
      "    --date <date>         override date for commit\n",
      "    -m, --message <message>\n",
      "                          commit message\n",
      "    -c, --reedit-message <commit>\n",
      "                          reuse and edit message from specified commit\n",
      "    -C, --reuse-message <commit>\n",
      "                          reuse message from specified commit\n",
      "    --fixup <commit>      use autosquash formatted message to fixup specified commit\n",
      "    --squash <commit>     use autosquash formatted message to squash specified commit\n",
      "    --reset-author        the commit is authored by me now (used with -C/-c/--amend)\n",
      "    -s, --signoff         add Signed-off-by:\n",
      "    -t, --template <file>\n",
      "                          use specified template file\n",
      "    -e, --edit            force edit of commit\n",
      "    --cleanup <default>   how to strip spaces and #comments from message\n",
      "    --status              include status in commit message template\n",
      "    -S, --gpg-sign[=<key-id>]\n",
      "                          GPG sign commit\n",
      "\n",
      "Commit contents options\n",
      "    -a, --all             commit all changed files\n",
      "    -i, --include         add specified files to index for commit\n",
      "    --interactive         interactively add files\n",
      "    -p, --patch           interactively add changes\n",
      "    -o, --only            commit only specified files\n",
      "    -n, --no-verify       bypass pre-commit and commit-msg hooks\n",
      "    --dry-run             show what would be committed\n",
      "    --short               show status concisely\n",
      "    --branch              show branch information\n",
      "    --ahead-behind        compute full ahead/behind values\n",
      "    --porcelain           machine-readable output\n",
      "    --long                show status in long format (default)\n",
      "    -z, --null            terminate entries with NUL\n",
      "    --amend               amend previous commit\n",
      "    --no-post-rewrite     bypass post-rewrite hook\n",
      "    -u, --untracked-files[=<mode>]\n",
      "                          show untracked files, optional modes: all, normal, no. (Default: all)\n",
      "\n"
     ]
    }
   ],
   "source": [
    "!git commit -am"
   ]
  },
  {
   "cell_type": "code",
   "execution_count": null,
   "id": "7466a202-fe73-4b2a-bd3f-8988b252008f",
   "metadata": {},
   "outputs": [],
   "source": []
  }
 ],
 "metadata": {
  "kernelspec": {
   "display_name": "C++17",
   "language": "C++17",
   "name": "xcpp17"
  },
  "language_info": {
   "codemirror_mode": "text/x-c++src",
   "file_extension": ".cpp",
   "mimetype": "text/x-c++src",
   "name": "c++",
   "version": "17"
  },
  "toc-showcode": true,
  "toc-showmarkdowntxt": false
 },
 "nbformat": 4,
 "nbformat_minor": 5
}
