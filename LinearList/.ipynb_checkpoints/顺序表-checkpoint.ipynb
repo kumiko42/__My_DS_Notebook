{
 "cells": [
  {
   "cell_type": "markdown",
   "id": "0f9f09d8-e5e2-41b1-864c-e95e93ddab57",
   "metadata": {},
   "source": [
    "# 写个动态分配的顺序表试试\n",
    "\n",
    ">  iPad配合Binder还是有点问题啊，先这么样吧，一会试试能不能commit然后push"
   ]
  },
  {
   "cell_type": "markdown",
   "id": "72bb846e-d877-4c3e-847e-1a8661e187f6",
   "metadata": {},
   "source": [
    "我们不再需要main()函数了，因为这是一门即时编译的C++。"
   ]
  },
  {
   "cell_type": "code",
   "execution_count": 4,
   "id": "088191f6-fb86-46e9-924f-e631adb43cd2",
   "metadata": {
    "tags": []
   },
   "outputs": [],
   "source": [
    "#include <stdio.h>\n",
    "#include <stdlib.h>\n",
    "#define MAXSIZE 50"
   ]
  },
  {
   "cell_type": "markdown",
   "id": "7a05f712-beb9-4ddb-9549-1f45b241f511",
   "metadata": {},
   "source": [
    "因为不用再"
   ]
  },
  {
   "cell_type": "code",
   "execution_count": null,
   "id": "a1e332c6-6821-4ae6-8b4e-8b7d1e149991",
   "metadata": {},
   "outputs": [],
   "source": []
  }
 ],
 "metadata": {
  "kernelspec": {
   "display_name": "C++17",
   "language": "C++17",
   "name": "xcpp17"
  },
  "language_info": {
   "codemirror_mode": "text/x-c++src",
   "file_extension": ".cpp",
   "mimetype": "text/x-c++src",
   "name": "c++",
   "version": "17"
  },
  "toc-autonumbering": true,
  "toc-showcode": false,
  "toc-showmarkdowntxt": false
 },
 "nbformat": 4,
 "nbformat_minor": 5
}
