{
 "cells": [
  {
   "cell_type": "code",
   "execution_count": null,
   "id": "6f637d18-79d0-4c47-a6a3-c2259609372f",
   "metadata": {},
   "outputs": [],
   "source": [
    "#include <stdio.h>"
   ]
  },
  {
   "cell_type": "code",
   "execution_count": null,
   "id": "b687464e-8a28-4790-a0a0-584199a6d14b",
   "metadata": {},
   "outputs": [],
   "source": [
    "printf(\"Hi!\\n\");"
   ]
  },
  {
   "cell_type": "markdown",
   "id": "b489fa97-d7cf-4204-83b4-8782071d8a3a",
   "metadata": {},
   "source": [
    "# 这是一个示例"
   ]
  }
 ],
 "metadata": {
  "kernelspec": {
   "display_name": "C++17",
   "language": "C++17",
   "name": "xcpp17"
  },
  "language_info": {
   "codemirror_mode": "text/x-c++src",
   "file_extension": ".cpp",
   "mimetype": "text/x-c++src",
   "name": "c++",
   "version": "17"
  }
 },
 "nbformat": 4,
 "nbformat_minor": 5
}
