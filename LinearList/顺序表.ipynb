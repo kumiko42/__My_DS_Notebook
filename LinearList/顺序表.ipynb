{
 "cells": [
  {
   "cell_type": "code",
   "execution_count": null,
   "id": "6f637d18-79d0-4c47-a6a3-c2259609372f",
   "metadata": {},
   "outputs": [],
   "source": [
    "#include <stdio.h>"
   ]
  },
  {
   "cell_type": "code",
   "execution_count": null,
   "id": "b687464e-8a28-4790-a0a0-584199a6d14b",
   "metadata": {},
   "outputs": [],
   "source": [
    "printf(\"Hi!\\n\");"
   ]
  },
  {
   "cell_type": "markdown",
   "id": "b489fa97-d7cf-4204-83b4-8782071d8a3a",
   "metadata": {
    "tags": []
   },
   "source": [
    "# 这是一个示例"
   ]
  },
  {
   "cell_type": "code",
   "execution_count": null,
   "id": "04f74603-4323-43fe-aa00-ae33d3457fab",
   "metadata": {},
   "outputs": [],
   "source": []
  }
 ],
 "metadata": {
  "kernelspec": {
   "display_name": "C++17",
   "language": "C++17",
   "name": "xcpp17"
  },
  "language_info": {
   "codemirror_mode": "text/x-c++src",
   "file_extension": ".cpp",
   "mimetype": "text/x-c++src",
   "name": "c++",
   "version": "17"
  },
  "toc-autonumbering": true,
  "toc-showcode": false,
  "toc-showmarkdowntxt": false
 },
 "nbformat": 4,
 "nbformat_minor": 5
}
